{
 "cells": [
  {
   "cell_type": "markdown",
   "id": "c9d64188-5992-442f-bf1a-cb711478ca61",
   "metadata": {},
   "source": [
    "# Kaggle dataset on restraunt from Zomato \n",
    "### Dataset details\n",
    "### Problem statement\n",
    "    Predicting the rating of the restraunt based on the givern features\n",
    "\n",
    "#### PROGRESS\n",
    "    1.removing the totally useless columns, url\n",
    "    2.removing the name but its count is approx. 17%, so NO because it could bee a key factor\n",
    "    3.address could be a key factor as well, because it plays as the reputation factor of a restraunt, we have an easy option location column, so removing address as well\n",
    "    4.phone, same as url, doesn't matter with respect to ratings\n",
    "    5.dish_liked, 50% missing, and we can't impute such things as it totally depends on peoples view, and even if we impute that will add 50% chance of reduntant info which ultimately distrupt the model performance, so imputing or dropping this column would be the same, but it would be best to drop as this feature is totally influenced by peoples\n",
    "    6.menu_item is also the same as dish_liked having no missing, but empty lists\n",
    "    7. I can imputing the rate with help of reviews_list 7775 total missings, but its an indiividual view not mean so can't use that either.\n",
    "    8. columns correction, for easy handling of columns later,\n",
    "    9. missing vals imputation\n",
    "    10. check for feature scaling, using xgb so scaling is not necessary\n",
    "    11. feature selection with threshold variance, using all features, no significant co-relation between features\n",
    "    12. model building, XGBregressor does really well\n",
    "    13. building a pipeline for preprocessing and training model for streamlit application.\n",
    "    "
   ]
  },
  {
   "cell_type": "markdown",
   "id": "c563c182-81e7-41ff-8a68-6e75f7600e63",
   "metadata": {
    "tags": []
   },
   "source": [
    "### Importing libraries"
   ]
  },
  {
   "cell_type": "code",
   "execution_count": 1,
   "id": "1e75b611-4de6-4e0b-814c-47bbf6c5d8af",
   "metadata": {},
   "outputs": [],
   "source": [
    "import pandas as pd\n",
    "import numpy as np\n",
    "import seaborn as sns\n",
    "import matplotlib.pyplot as plt\n",
    "\n",
    "from sklearn.model_selection import train_test_split as tts, GridSearchCV, RandomizedSearchCV, cross_val_score\n",
    "\n",
    "from sklearn.pipeline import Pipeline, make_pipeline\n",
    "from sklearn.compose import ColumnTransformer, make_column_transformer\n",
    "\n",
    "from xgboost import XGBRegressor\n",
    "from lightgbm import LGBMRegressor\n",
    "from catboost import CatBoostRegressor\n",
    "\n",
    "from sklearn.linear_model import LinearRegression\n",
    "from sklearn.ensemble import RandomForestRegressor\n",
    "from sklearn.svm import SVR, LinearSVR,NuSVR\n",
    "\n",
    "from sklearn.ensemble import ExtraTreesRegressor\n",
    "\n",
    "from sklearn.metrics import f1_score, accuracy_score, confusion_matrix,mean_absolute_error as mae, r2_score as r2\n",
    "from sklearn.preprocessing import LabelEncoder, StandardScaler, OrdinalEncoder, MinMaxScaler,RobustScaler, OneHotEncoder\n",
    "from sklearn.impute import SimpleImputer, KNNImputer\n",
    "from imblearn.over_sampling import ADASYN,SMOTE\n",
    "\n",
    "\n",
    "import warnings\n",
    "from time import time\n",
    "warnings.filterwarnings('ignore')"
   ]
  },
  {
   "cell_type": "markdown",
   "id": "66d38478-004f-407b-bcfe-f2914d41ba27",
   "metadata": {
    "tags": []
   },
   "source": [
    "### Reading dataset and general exploration"
   ]
  },
  {
   "cell_type": "code",
   "execution_count": 2,
   "id": "dc335d6e-07e3-492f-8101-5a16495f492f",
   "metadata": {},
   "outputs": [],
   "source": [
    "df = pd.read_csv('zomato.csv')\n"
   ]
  },
  {
   "cell_type": "code",
   "execution_count": 3,
   "id": "c86ace98-b536-4773-8f89-12d32fbf3939",
   "metadata": {},
   "outputs": [
    {
     "data": {
      "text/html": [
       "<div>\n",
       "<style scoped>\n",
       "    .dataframe tbody tr th:only-of-type {\n",
       "        vertical-align: middle;\n",
       "    }\n",
       "\n",
       "    .dataframe tbody tr th {\n",
       "        vertical-align: top;\n",
       "    }\n",
       "\n",
       "    .dataframe thead th {\n",
       "        text-align: right;\n",
       "    }\n",
       "</style>\n",
       "<table border=\"1\" class=\"dataframe\">\n",
       "  <thead>\n",
       "    <tr style=\"text-align: right;\">\n",
       "      <th></th>\n",
       "      <th>url</th>\n",
       "      <th>address</th>\n",
       "      <th>name</th>\n",
       "      <th>online_order</th>\n",
       "      <th>book_table</th>\n",
       "      <th>rate</th>\n",
       "      <th>votes</th>\n",
       "      <th>phone</th>\n",
       "      <th>location</th>\n",
       "      <th>rest_type</th>\n",
       "      <th>dish_liked</th>\n",
       "      <th>cuisines</th>\n",
       "      <th>approx_cost(for two people)</th>\n",
       "      <th>reviews_list</th>\n",
       "      <th>menu_item</th>\n",
       "      <th>listed_in(type)</th>\n",
       "      <th>listed_in(city)</th>\n",
       "    </tr>\n",
       "  </thead>\n",
       "  <tbody>\n",
       "    <tr>\n",
       "      <th>0</th>\n",
       "      <td>https://www.zomato.com/bangalore/jalsa-banasha...</td>\n",
       "      <td>942, 21st Main Road, 2nd Stage, Banashankari, ...</td>\n",
       "      <td>Jalsa</td>\n",
       "      <td>Yes</td>\n",
       "      <td>Yes</td>\n",
       "      <td>4.1/5</td>\n",
       "      <td>775</td>\n",
       "      <td>080 42297555\\r\\n+91 9743772233</td>\n",
       "      <td>Banashankari</td>\n",
       "      <td>Casual Dining</td>\n",
       "      <td>Pasta, Lunch Buffet, Masala Papad, Paneer Laja...</td>\n",
       "      <td>North Indian, Mughlai, Chinese</td>\n",
       "      <td>800</td>\n",
       "      <td>[('Rated 4.0', 'RATED\\n  A beautiful place to ...</td>\n",
       "      <td>[]</td>\n",
       "      <td>Buffet</td>\n",
       "      <td>Banashankari</td>\n",
       "    </tr>\n",
       "    <tr>\n",
       "      <th>1</th>\n",
       "      <td>https://www.zomato.com/bangalore/spice-elephan...</td>\n",
       "      <td>2nd Floor, 80 Feet Road, Near Big Bazaar, 6th ...</td>\n",
       "      <td>Spice Elephant</td>\n",
       "      <td>Yes</td>\n",
       "      <td>No</td>\n",
       "      <td>4.1/5</td>\n",
       "      <td>787</td>\n",
       "      <td>080 41714161</td>\n",
       "      <td>Banashankari</td>\n",
       "      <td>Casual Dining</td>\n",
       "      <td>Momos, Lunch Buffet, Chocolate Nirvana, Thai G...</td>\n",
       "      <td>Chinese, North Indian, Thai</td>\n",
       "      <td>800</td>\n",
       "      <td>[('Rated 4.0', 'RATED\\n  Had been here for din...</td>\n",
       "      <td>[]</td>\n",
       "      <td>Buffet</td>\n",
       "      <td>Banashankari</td>\n",
       "    </tr>\n",
       "    <tr>\n",
       "      <th>2</th>\n",
       "      <td>https://www.zomato.com/SanchurroBangalore?cont...</td>\n",
       "      <td>1112, Next to KIMS Medical College, 17th Cross...</td>\n",
       "      <td>San Churro Cafe</td>\n",
       "      <td>Yes</td>\n",
       "      <td>No</td>\n",
       "      <td>3.8/5</td>\n",
       "      <td>918</td>\n",
       "      <td>+91 9663487993</td>\n",
       "      <td>Banashankari</td>\n",
       "      <td>Cafe, Casual Dining</td>\n",
       "      <td>Churros, Cannelloni, Minestrone Soup, Hot Choc...</td>\n",
       "      <td>Cafe, Mexican, Italian</td>\n",
       "      <td>800</td>\n",
       "      <td>[('Rated 3.0', \"RATED\\n  Ambience is not that ...</td>\n",
       "      <td>[]</td>\n",
       "      <td>Buffet</td>\n",
       "      <td>Banashankari</td>\n",
       "    </tr>\n",
       "    <tr>\n",
       "      <th>3</th>\n",
       "      <td>https://www.zomato.com/bangalore/addhuri-udupi...</td>\n",
       "      <td>1st Floor, Annakuteera, 3rd Stage, Banashankar...</td>\n",
       "      <td>Addhuri Udupi Bhojana</td>\n",
       "      <td>No</td>\n",
       "      <td>No</td>\n",
       "      <td>3.7/5</td>\n",
       "      <td>88</td>\n",
       "      <td>+91 9620009302</td>\n",
       "      <td>Banashankari</td>\n",
       "      <td>Quick Bites</td>\n",
       "      <td>Masala Dosa</td>\n",
       "      <td>South Indian, North Indian</td>\n",
       "      <td>300</td>\n",
       "      <td>[('Rated 4.0', \"RATED\\n  Great food and proper...</td>\n",
       "      <td>[]</td>\n",
       "      <td>Buffet</td>\n",
       "      <td>Banashankari</td>\n",
       "    </tr>\n",
       "    <tr>\n",
       "      <th>4</th>\n",
       "      <td>https://www.zomato.com/bangalore/grand-village...</td>\n",
       "      <td>10, 3rd Floor, Lakshmi Associates, Gandhi Baza...</td>\n",
       "      <td>Grand Village</td>\n",
       "      <td>No</td>\n",
       "      <td>No</td>\n",
       "      <td>3.8/5</td>\n",
       "      <td>166</td>\n",
       "      <td>+91 8026612447\\r\\n+91 9901210005</td>\n",
       "      <td>Basavanagudi</td>\n",
       "      <td>Casual Dining</td>\n",
       "      <td>Panipuri, Gol Gappe</td>\n",
       "      <td>North Indian, Rajasthani</td>\n",
       "      <td>600</td>\n",
       "      <td>[('Rated 4.0', 'RATED\\n  Very good restaurant ...</td>\n",
       "      <td>[]</td>\n",
       "      <td>Buffet</td>\n",
       "      <td>Banashankari</td>\n",
       "    </tr>\n",
       "  </tbody>\n",
       "</table>\n",
       "</div>"
      ],
      "text/plain": [
       "                                                 url  \\\n",
       "0  https://www.zomato.com/bangalore/jalsa-banasha...   \n",
       "1  https://www.zomato.com/bangalore/spice-elephan...   \n",
       "2  https://www.zomato.com/SanchurroBangalore?cont...   \n",
       "3  https://www.zomato.com/bangalore/addhuri-udupi...   \n",
       "4  https://www.zomato.com/bangalore/grand-village...   \n",
       "\n",
       "                                             address                   name  \\\n",
       "0  942, 21st Main Road, 2nd Stage, Banashankari, ...                  Jalsa   \n",
       "1  2nd Floor, 80 Feet Road, Near Big Bazaar, 6th ...         Spice Elephant   \n",
       "2  1112, Next to KIMS Medical College, 17th Cross...        San Churro Cafe   \n",
       "3  1st Floor, Annakuteera, 3rd Stage, Banashankar...  Addhuri Udupi Bhojana   \n",
       "4  10, 3rd Floor, Lakshmi Associates, Gandhi Baza...          Grand Village   \n",
       "\n",
       "  online_order book_table   rate  votes                             phone  \\\n",
       "0          Yes        Yes  4.1/5    775    080 42297555\\r\\n+91 9743772233   \n",
       "1          Yes         No  4.1/5    787                      080 41714161   \n",
       "2          Yes         No  3.8/5    918                    +91 9663487993   \n",
       "3           No         No  3.7/5     88                    +91 9620009302   \n",
       "4           No         No  3.8/5    166  +91 8026612447\\r\\n+91 9901210005   \n",
       "\n",
       "       location            rest_type  \\\n",
       "0  Banashankari        Casual Dining   \n",
       "1  Banashankari        Casual Dining   \n",
       "2  Banashankari  Cafe, Casual Dining   \n",
       "3  Banashankari          Quick Bites   \n",
       "4  Basavanagudi        Casual Dining   \n",
       "\n",
       "                                          dish_liked  \\\n",
       "0  Pasta, Lunch Buffet, Masala Papad, Paneer Laja...   \n",
       "1  Momos, Lunch Buffet, Chocolate Nirvana, Thai G...   \n",
       "2  Churros, Cannelloni, Minestrone Soup, Hot Choc...   \n",
       "3                                        Masala Dosa   \n",
       "4                                Panipuri, Gol Gappe   \n",
       "\n",
       "                         cuisines approx_cost(for two people)  \\\n",
       "0  North Indian, Mughlai, Chinese                         800   \n",
       "1     Chinese, North Indian, Thai                         800   \n",
       "2          Cafe, Mexican, Italian                         800   \n",
       "3      South Indian, North Indian                         300   \n",
       "4        North Indian, Rajasthani                         600   \n",
       "\n",
       "                                        reviews_list menu_item  \\\n",
       "0  [('Rated 4.0', 'RATED\\n  A beautiful place to ...        []   \n",
       "1  [('Rated 4.0', 'RATED\\n  Had been here for din...        []   \n",
       "2  [('Rated 3.0', \"RATED\\n  Ambience is not that ...        []   \n",
       "3  [('Rated 4.0', \"RATED\\n  Great food and proper...        []   \n",
       "4  [('Rated 4.0', 'RATED\\n  Very good restaurant ...        []   \n",
       "\n",
       "  listed_in(type) listed_in(city)  \n",
       "0          Buffet    Banashankari  \n",
       "1          Buffet    Banashankari  \n",
       "2          Buffet    Banashankari  \n",
       "3          Buffet    Banashankari  \n",
       "4          Buffet    Banashankari  "
      ]
     },
     "execution_count": 3,
     "metadata": {},
     "output_type": "execute_result"
    }
   ],
   "source": [
    "df.head()"
   ]
  },
  {
   "cell_type": "code",
   "execution_count": 4,
   "id": "69b2dd2e-672c-4d7d-b873-8e34377841e4",
   "metadata": {},
   "outputs": [
    {
     "data": {
      "text/plain": [
       "51717"
      ]
     },
     "execution_count": 4,
     "metadata": {},
     "output_type": "execute_result"
    }
   ],
   "source": [
    "len(df)"
   ]
  },
  {
   "cell_type": "code",
   "execution_count": 5,
   "id": "ad6e3c70-2612-4cf9-a67d-040240ce06d6",
   "metadata": {},
   "outputs": [
    {
     "data": {
      "text/plain": [
       "Index(['url', 'address', 'name', 'online_order', 'book_table', 'rate', 'votes',\n",
       "       'phone', 'location', 'rest_type', 'dish_liked', 'cuisines',\n",
       "       'approx_cost(for two people)', 'reviews_list', 'menu_item',\n",
       "       'listed_in(type)', 'listed_in(city)'],\n",
       "      dtype='object')"
      ]
     },
     "execution_count": 5,
     "metadata": {},
     "output_type": "execute_result"
    }
   ],
   "source": [
    "df.columns"
   ]
  },
  {
   "cell_type": "markdown",
   "id": "0f1bd4a3-303b-4544-a83b-4c3c865eaf43",
   "metadata": {
    "tags": []
   },
   "source": [
    "### Uniqueness/Missing summary"
   ]
  },
  {
   "cell_type": "code",
   "execution_count": 6,
   "id": "ba2b3e45-96c7-411f-af35-07563cf88188",
   "metadata": {},
   "outputs": [
    {
     "name": "stdout",
     "output_type": "stream",
     "text": [
      "<class 'pandas.core.frame.DataFrame'>\n",
      "RangeIndex: 51717 entries, 0 to 51716\n",
      "Data columns (total 17 columns):\n",
      " #   Column                       Non-Null Count  Dtype \n",
      "---  ------                       --------------  ----- \n",
      " 0   url                          51717 non-null  object\n",
      " 1   address                      51717 non-null  object\n",
      " 2   name                         51717 non-null  object\n",
      " 3   online_order                 51717 non-null  object\n",
      " 4   book_table                   51717 non-null  object\n",
      " 5   rate                         43942 non-null  object\n",
      " 6   votes                        51717 non-null  int64 \n",
      " 7   phone                        50509 non-null  object\n",
      " 8   location                     51696 non-null  object\n",
      " 9   rest_type                    51490 non-null  object\n",
      " 10  dish_liked                   23639 non-null  object\n",
      " 11  cuisines                     51672 non-null  object\n",
      " 12  approx_cost(for two people)  51371 non-null  object\n",
      " 13  reviews_list                 51717 non-null  object\n",
      " 14  menu_item                    51717 non-null  object\n",
      " 15  listed_in(type)              51717 non-null  object\n",
      " 16  listed_in(city)              51717 non-null  object\n",
      "dtypes: int64(1), object(16)\n",
      "memory usage: 6.7+ MB\n"
     ]
    }
   ],
   "source": [
    "df.info()"
   ]
  },
  {
   "cell_type": "code",
   "execution_count": 7,
   "id": "8d9a832a-c518-4efc-b6e9-9c01f1f755d8",
   "metadata": {},
   "outputs": [],
   "source": [
    "df.rename(columns={'approx_cost(for two people)':'price','listed_in(type)':'type','listed_in(city)':'city'},inplace=True)"
   ]
  },
  {
   "cell_type": "code",
   "execution_count": 8,
   "id": "d29fe261-9d2b-4b6b-8046-af85ae8ad58d",
   "metadata": {},
   "outputs": [
    {
     "name": "stdout",
     "output_type": "stream",
     "text": [
      "Percentage wise distribution of unique values\n"
     ]
    },
    {
     "data": {
      "text/html": [
       "<div>\n",
       "<style scoped>\n",
       "    .dataframe tbody tr th:only-of-type {\n",
       "        vertical-align: middle;\n",
       "    }\n",
       "\n",
       "    .dataframe tbody tr th {\n",
       "        vertical-align: top;\n",
       "    }\n",
       "\n",
       "    .dataframe thead th {\n",
       "        text-align: right;\n",
       "    }\n",
       "</style>\n",
       "<table border=\"1\" class=\"dataframe\">\n",
       "  <thead>\n",
       "    <tr style=\"text-align: right;\">\n",
       "      <th></th>\n",
       "      <th>Count of Unique</th>\n",
       "      <th>Percentage of Unqiue</th>\n",
       "      <th>Count of Missing</th>\n",
       "      <th>Percentage of Missing</th>\n",
       "    </tr>\n",
       "  </thead>\n",
       "  <tbody>\n",
       "    <tr>\n",
       "      <th>url</th>\n",
       "      <td>51717.0</td>\n",
       "      <td>1.0000</td>\n",
       "      <td>0.0</td>\n",
       "      <td>0.0000</td>\n",
       "    </tr>\n",
       "    <tr>\n",
       "      <th>address</th>\n",
       "      <td>11495.0</td>\n",
       "      <td>0.2223</td>\n",
       "      <td>0.0</td>\n",
       "      <td>0.0000</td>\n",
       "    </tr>\n",
       "    <tr>\n",
       "      <th>name</th>\n",
       "      <td>8792.0</td>\n",
       "      <td>0.1700</td>\n",
       "      <td>0.0</td>\n",
       "      <td>0.0000</td>\n",
       "    </tr>\n",
       "    <tr>\n",
       "      <th>online_order</th>\n",
       "      <td>2.0</td>\n",
       "      <td>0.0000</td>\n",
       "      <td>0.0</td>\n",
       "      <td>0.0000</td>\n",
       "    </tr>\n",
       "    <tr>\n",
       "      <th>book_table</th>\n",
       "      <td>2.0</td>\n",
       "      <td>0.0000</td>\n",
       "      <td>0.0</td>\n",
       "      <td>0.0000</td>\n",
       "    </tr>\n",
       "    <tr>\n",
       "      <th>rate</th>\n",
       "      <td>64.0</td>\n",
       "      <td>0.0012</td>\n",
       "      <td>7775.0</td>\n",
       "      <td>0.1503</td>\n",
       "    </tr>\n",
       "    <tr>\n",
       "      <th>votes</th>\n",
       "      <td>2328.0</td>\n",
       "      <td>0.0450</td>\n",
       "      <td>0.0</td>\n",
       "      <td>0.0000</td>\n",
       "    </tr>\n",
       "    <tr>\n",
       "      <th>phone</th>\n",
       "      <td>14926.0</td>\n",
       "      <td>0.2886</td>\n",
       "      <td>1208.0</td>\n",
       "      <td>0.0234</td>\n",
       "    </tr>\n",
       "    <tr>\n",
       "      <th>location</th>\n",
       "      <td>93.0</td>\n",
       "      <td>0.0018</td>\n",
       "      <td>21.0</td>\n",
       "      <td>0.0004</td>\n",
       "    </tr>\n",
       "    <tr>\n",
       "      <th>rest_type</th>\n",
       "      <td>93.0</td>\n",
       "      <td>0.0018</td>\n",
       "      <td>227.0</td>\n",
       "      <td>0.0044</td>\n",
       "    </tr>\n",
       "    <tr>\n",
       "      <th>dish_liked</th>\n",
       "      <td>5271.0</td>\n",
       "      <td>0.1019</td>\n",
       "      <td>28078.0</td>\n",
       "      <td>0.5429</td>\n",
       "    </tr>\n",
       "    <tr>\n",
       "      <th>cuisines</th>\n",
       "      <td>2723.0</td>\n",
       "      <td>0.0527</td>\n",
       "      <td>45.0</td>\n",
       "      <td>0.0009</td>\n",
       "    </tr>\n",
       "    <tr>\n",
       "      <th>price</th>\n",
       "      <td>70.0</td>\n",
       "      <td>0.0014</td>\n",
       "      <td>346.0</td>\n",
       "      <td>0.0067</td>\n",
       "    </tr>\n",
       "    <tr>\n",
       "      <th>reviews_list</th>\n",
       "      <td>22513.0</td>\n",
       "      <td>0.4353</td>\n",
       "      <td>0.0</td>\n",
       "      <td>0.0000</td>\n",
       "    </tr>\n",
       "    <tr>\n",
       "      <th>menu_item</th>\n",
       "      <td>9098.0</td>\n",
       "      <td>0.1759</td>\n",
       "      <td>0.0</td>\n",
       "      <td>0.0000</td>\n",
       "    </tr>\n",
       "    <tr>\n",
       "      <th>type</th>\n",
       "      <td>7.0</td>\n",
       "      <td>0.0001</td>\n",
       "      <td>0.0</td>\n",
       "      <td>0.0000</td>\n",
       "    </tr>\n",
       "    <tr>\n",
       "      <th>city</th>\n",
       "      <td>30.0</td>\n",
       "      <td>0.0006</td>\n",
       "      <td>0.0</td>\n",
       "      <td>0.0000</td>\n",
       "    </tr>\n",
       "  </tbody>\n",
       "</table>\n",
       "</div>"
      ],
      "text/plain": [
       "              Count of Unique  Percentage of Unqiue  Count of Missing  \\\n",
       "url                   51717.0                1.0000               0.0   \n",
       "address               11495.0                0.2223               0.0   \n",
       "name                   8792.0                0.1700               0.0   \n",
       "online_order              2.0                0.0000               0.0   \n",
       "book_table                2.0                0.0000               0.0   \n",
       "rate                     64.0                0.0012            7775.0   \n",
       "votes                  2328.0                0.0450               0.0   \n",
       "phone                 14926.0                0.2886            1208.0   \n",
       "location                 93.0                0.0018              21.0   \n",
       "rest_type                93.0                0.0018             227.0   \n",
       "dish_liked             5271.0                0.1019           28078.0   \n",
       "cuisines               2723.0                0.0527              45.0   \n",
       "price                    70.0                0.0014             346.0   \n",
       "reviews_list          22513.0                0.4353               0.0   \n",
       "menu_item              9098.0                0.1759               0.0   \n",
       "type                      7.0                0.0001               0.0   \n",
       "city                     30.0                0.0006               0.0   \n",
       "\n",
       "              Percentage of Missing  \n",
       "url                          0.0000  \n",
       "address                      0.0000  \n",
       "name                         0.0000  \n",
       "online_order                 0.0000  \n",
       "book_table                   0.0000  \n",
       "rate                         0.1503  \n",
       "votes                        0.0000  \n",
       "phone                        0.0234  \n",
       "location                     0.0004  \n",
       "rest_type                    0.0044  \n",
       "dish_liked                   0.5429  \n",
       "cuisines                     0.0009  \n",
       "price                        0.0067  \n",
       "reviews_list                 0.0000  \n",
       "menu_item                    0.0000  \n",
       "type                         0.0000  \n",
       "city                         0.0000  "
      ]
     },
     "execution_count": 8,
     "metadata": {},
     "output_type": "execute_result"
    }
   ],
   "source": [
    "dist = df.apply(lambda x:[x.nunique(), round(x.nunique()/len(df),4),round(x.isna().sum(),4),round(x.isna().sum()/len(df),4)])\n",
    "print('Percentage wise distribution of unique values')\n",
    "x = dist.transpose()\n",
    "x= x.rename(columns={0:'Count of Unique',1:'Percentage of Unqiue',2:'Count of Missing',3:'Percentage of Missing'})\n",
    "x"
   ]
  },
  {
   "cell_type": "code",
   "execution_count": 9,
   "id": "5265315d-8105-44a8-aff2-9c087e56a58e",
   "metadata": {},
   "outputs": [
    {
     "data": {
      "text/html": [
       "<div>\n",
       "<style scoped>\n",
       "    .dataframe tbody tr th:only-of-type {\n",
       "        vertical-align: middle;\n",
       "    }\n",
       "\n",
       "    .dataframe tbody tr th {\n",
       "        vertical-align: top;\n",
       "    }\n",
       "\n",
       "    .dataframe thead th {\n",
       "        text-align: right;\n",
       "    }\n",
       "</style>\n",
       "<table border=\"1\" class=\"dataframe\">\n",
       "  <thead>\n",
       "    <tr style=\"text-align: right;\">\n",
       "      <th></th>\n",
       "      <th>votes</th>\n",
       "    </tr>\n",
       "  </thead>\n",
       "  <tbody>\n",
       "    <tr>\n",
       "      <th>count</th>\n",
       "      <td>51717.000000</td>\n",
       "    </tr>\n",
       "    <tr>\n",
       "      <th>mean</th>\n",
       "      <td>283.697527</td>\n",
       "    </tr>\n",
       "    <tr>\n",
       "      <th>std</th>\n",
       "      <td>803.838853</td>\n",
       "    </tr>\n",
       "    <tr>\n",
       "      <th>min</th>\n",
       "      <td>0.000000</td>\n",
       "    </tr>\n",
       "    <tr>\n",
       "      <th>25%</th>\n",
       "      <td>7.000000</td>\n",
       "    </tr>\n",
       "    <tr>\n",
       "      <th>50%</th>\n",
       "      <td>41.000000</td>\n",
       "    </tr>\n",
       "    <tr>\n",
       "      <th>75%</th>\n",
       "      <td>198.000000</td>\n",
       "    </tr>\n",
       "    <tr>\n",
       "      <th>max</th>\n",
       "      <td>16832.000000</td>\n",
       "    </tr>\n",
       "  </tbody>\n",
       "</table>\n",
       "</div>"
      ],
      "text/plain": [
       "              votes\n",
       "count  51717.000000\n",
       "mean     283.697527\n",
       "std      803.838853\n",
       "min        0.000000\n",
       "25%        7.000000\n",
       "50%       41.000000\n",
       "75%      198.000000\n",
       "max    16832.000000"
      ]
     },
     "execution_count": 9,
     "metadata": {},
     "output_type": "execute_result"
    }
   ],
   "source": [
    "df.describe()"
   ]
  },
  {
   "cell_type": "markdown",
   "id": "a631d905-caec-4772-8d0c-4fd8955a50af",
   "metadata": {
    "tags": []
   },
   "source": [
    "### Data Cleaning"
   ]
  },
  {
   "cell_type": "markdown",
   "id": "2b27f5f0-598c-4525-9aa2-b000376a8f2d",
   "metadata": {
    "tags": []
   },
   "source": [
    "#### Dropping the non-essential, redundant columns"
   ]
  },
  {
   "cell_type": "code",
   "execution_count": 10,
   "id": "106922c1-584f-499a-95b6-88df0b9a995e",
   "metadata": {},
   "outputs": [],
   "source": [
    "df.drop(columns=['url','address','phone','dish_liked', 'menu_item','reviews_list'],axis=1,inplace=True)"
   ]
  },
  {
   "cell_type": "code",
   "execution_count": 11,
   "id": "c7b6be05-705f-4975-bd54-49c4fe6bcf40",
   "metadata": {},
   "outputs": [
    {
     "data": {
      "text/plain": [
       "name                                     Jalsa\n",
       "online_order                               Yes\n",
       "book_table                                 Yes\n",
       "rate                                     4.1/5\n",
       "votes                                      775\n",
       "location                          Banashankari\n",
       "rest_type                        Casual Dining\n",
       "cuisines        North Indian, Mughlai, Chinese\n",
       "price                                      800\n",
       "type                                    Buffet\n",
       "city                              Banashankari\n",
       "Name: 0, dtype: object"
      ]
     },
     "execution_count": 11,
     "metadata": {},
     "output_type": "execute_result"
    }
   ],
   "source": [
    "df.iloc[0]"
   ]
  },
  {
   "cell_type": "markdown",
   "id": "c324eafe-2a3f-4870-b1c3-a5188c9ba0a8",
   "metadata": {
    "tags": []
   },
   "source": [
    "#### Imputing the rate column with the help of reviews_list"
   ]
  },
  {
   "cell_type": "code",
   "execution_count": 12,
   "id": "b9a27aa4-585f-4000-b6f8-2ab24785c07a",
   "metadata": {},
   "outputs": [
    {
     "data": {
      "text/plain": [
       "7775"
      ]
     },
     "execution_count": 12,
     "metadata": {},
     "output_type": "execute_result"
    }
   ],
   "source": [
    "#before imputing 7775\n",
    "df.rate.isna().sum()"
   ]
  },
  {
   "cell_type": "raw",
   "id": "cdc217db-9a99-4f46-bbd7-d99718d70f93",
   "metadata": {},
   "source": [
    "extracting the ratings from the reviews_list\n",
    "temp = df['reviews_list'].str.extract(r'(Rated \\d.\\d)')\n",
    "temp.rename(columns={0:'ratings'},inplace=True)\n",
    "temp = temp.ratings.str.extract(r'(\\d.\\d)')\n",
    "df.reviews_list = temp\n",
    "df.reviews_list\n",
    "df.rate[df.rate.isna()] = df.reviews_list[df.rate.isna()]\n",
    "df.drop(columns=['reviews_list'],inplace=True)"
   ]
  },
  {
   "cell_type": "markdown",
   "id": "ba090ea3-08d8-404a-9bc4-9a9a58ec87a5",
   "metadata": {
    "tags": []
   },
   "source": [
    "##### removing the /5 from the rate"
   ]
  },
  {
   "cell_type": "code",
   "execution_count": 13,
   "id": "494076ef-33b9-47fa-862f-e7f84e6850d2",
   "metadata": {},
   "outputs": [],
   "source": [
    "df.rate= df.rate.apply(lambda x:x.replace('/5','') if type(x) is np.str else x)\n",
    "df.rate = df.rate.apply(lambda x:x.replace('NEW','') if type(x) is np.str else x)\n",
    "df.rate = df.rate.apply(lambda x:x.replace('-','') if type(x) is np.str else x)"
   ]
  },
  {
   "cell_type": "code",
   "execution_count": 14,
   "id": "0d47f00a-eecf-43f2-8c51-63a36ccf96f1",
   "metadata": {},
   "outputs": [
    {
     "data": {
      "text/plain": [
       "array(['4.1', '3.8', '3.7', '3.6', '4.6', '4.0', '4.2', '3.9', '3.1',\n",
       "       '3.0', '3.2', '3.3', '2.8', '4.4', '4.3', '', '2.9', '3.5', nan,\n",
       "       '2.6', '3.8 ', '3.4', '4.5', '2.5', '2.7', '4.7', '2.4', '2.2',\n",
       "       '2.3', '3.4 ', '3.6 ', '4.8', '3.9 ', '4.2 ', '4.0 ', '4.1 ',\n",
       "       '3.7 ', '3.1 ', '2.9 ', '3.3 ', '2.8 ', '3.5 ', '2.7 ', '2.5 ',\n",
       "       '3.2 ', '2.6 ', '4.5 ', '4.3 ', '4.4 ', '4.9', '2.1', '2.0', '1.8',\n",
       "       '4.6 ', '4.9 ', '3.0 ', '4.8 ', '2.3 ', '4.7 ', '2.4 ', '2.1 ',\n",
       "       '2.2 ', '2.0 ', '1.8 '], dtype=object)"
      ]
     },
     "execution_count": 14,
     "metadata": {},
     "output_type": "execute_result"
    }
   ],
   "source": [
    "df.rate.unique()"
   ]
  },
  {
   "cell_type": "markdown",
   "id": "3afd3428-636c-4aa6-adf7-14f34e673529",
   "metadata": {
    "tags": []
   },
   "source": [
    "##### Converting strings to numeric"
   ]
  },
  {
   "cell_type": "code",
   "execution_count": 15,
   "id": "6cf8f15d-65b0-4539-934c-0d6e51a86f66",
   "metadata": {},
   "outputs": [],
   "source": [
    "df.rate = pd.to_numeric(df.rate)"
   ]
  },
  {
   "cell_type": "code",
   "execution_count": 16,
   "id": "070c6fd0-dd4e-44bc-97be-52cfe647215d",
   "metadata": {},
   "outputs": [
    {
     "name": "stdout",
     "output_type": "stream",
     "text": [
      "<class 'pandas.core.frame.DataFrame'>\n",
      "RangeIndex: 51717 entries, 0 to 51716\n",
      "Data columns (total 11 columns):\n",
      " #   Column        Non-Null Count  Dtype  \n",
      "---  ------        --------------  -----  \n",
      " 0   name          51717 non-null  object \n",
      " 1   online_order  51717 non-null  object \n",
      " 2   book_table    51717 non-null  object \n",
      " 3   rate          41665 non-null  float64\n",
      " 4   votes         51717 non-null  int64  \n",
      " 5   location      51696 non-null  object \n",
      " 6   rest_type     51490 non-null  object \n",
      " 7   cuisines      51672 non-null  object \n",
      " 8   price         51371 non-null  object \n",
      " 9   type          51717 non-null  object \n",
      " 10  city          51717 non-null  object \n",
      "dtypes: float64(1), int64(1), object(9)\n",
      "memory usage: 4.3+ MB\n"
     ]
    }
   ],
   "source": [
    "df.info()"
   ]
  },
  {
   "cell_type": "code",
   "execution_count": 17,
   "id": "dfd81a37-2e78-4f24-bdd0-557127050201",
   "metadata": {},
   "outputs": [],
   "source": [
    "df.online_order = df.online_order.replace(('Yes','No'),(1,0))\n",
    "df.book_table = df.book_table.replace(('Yes','No'),(1,0))"
   ]
  },
  {
   "cell_type": "code",
   "execution_count": 18,
   "id": "3be690d6-2410-489e-9ef8-b1cfe20522c5",
   "metadata": {},
   "outputs": [],
   "source": [
    "df.rename(columns={'approx_cost(for two people)':'price','listed_in(type)':'type','listed_in(city)':'city'},inplace=True)"
   ]
  },
  {
   "cell_type": "code",
   "execution_count": 19,
   "id": "d5582777-c241-42e0-a42b-45c15ac3ae82",
   "metadata": {},
   "outputs": [],
   "source": [
    "df.price = df.price.astype(str)\n",
    "df.price=df.price.apply(lambda x:x.replace(',',''))\n",
    "df.price = df.price.astype(float)"
   ]
  },
  {
   "cell_type": "code",
   "execution_count": 20,
   "id": "b6341332-33cf-4e26-af0e-9af76ad49fac",
   "metadata": {},
   "outputs": [
    {
     "data": {
      "text/html": [
       "<div>\n",
       "<style scoped>\n",
       "    .dataframe tbody tr th:only-of-type {\n",
       "        vertical-align: middle;\n",
       "    }\n",
       "\n",
       "    .dataframe tbody tr th {\n",
       "        vertical-align: top;\n",
       "    }\n",
       "\n",
       "    .dataframe thead th {\n",
       "        text-align: right;\n",
       "    }\n",
       "</style>\n",
       "<table border=\"1\" class=\"dataframe\">\n",
       "  <thead>\n",
       "    <tr style=\"text-align: right;\">\n",
       "      <th></th>\n",
       "      <th>name</th>\n",
       "      <th>online_order</th>\n",
       "      <th>book_table</th>\n",
       "      <th>rate</th>\n",
       "      <th>votes</th>\n",
       "      <th>location</th>\n",
       "      <th>rest_type</th>\n",
       "      <th>cuisines</th>\n",
       "      <th>price</th>\n",
       "      <th>type</th>\n",
       "      <th>city</th>\n",
       "    </tr>\n",
       "  </thead>\n",
       "  <tbody>\n",
       "    <tr>\n",
       "      <th>0</th>\n",
       "      <td>Jalsa</td>\n",
       "      <td>1</td>\n",
       "      <td>1</td>\n",
       "      <td>4.1</td>\n",
       "      <td>775</td>\n",
       "      <td>Banashankari</td>\n",
       "      <td>Casual Dining</td>\n",
       "      <td>North Indian, Mughlai, Chinese</td>\n",
       "      <td>800.0</td>\n",
       "      <td>Buffet</td>\n",
       "      <td>Banashankari</td>\n",
       "    </tr>\n",
       "    <tr>\n",
       "      <th>1</th>\n",
       "      <td>Spice Elephant</td>\n",
       "      <td>1</td>\n",
       "      <td>0</td>\n",
       "      <td>4.1</td>\n",
       "      <td>787</td>\n",
       "      <td>Banashankari</td>\n",
       "      <td>Casual Dining</td>\n",
       "      <td>Chinese, North Indian, Thai</td>\n",
       "      <td>800.0</td>\n",
       "      <td>Buffet</td>\n",
       "      <td>Banashankari</td>\n",
       "    </tr>\n",
       "    <tr>\n",
       "      <th>2</th>\n",
       "      <td>San Churro Cafe</td>\n",
       "      <td>1</td>\n",
       "      <td>0</td>\n",
       "      <td>3.8</td>\n",
       "      <td>918</td>\n",
       "      <td>Banashankari</td>\n",
       "      <td>Cafe, Casual Dining</td>\n",
       "      <td>Cafe, Mexican, Italian</td>\n",
       "      <td>800.0</td>\n",
       "      <td>Buffet</td>\n",
       "      <td>Banashankari</td>\n",
       "    </tr>\n",
       "    <tr>\n",
       "      <th>3</th>\n",
       "      <td>Addhuri Udupi Bhojana</td>\n",
       "      <td>0</td>\n",
       "      <td>0</td>\n",
       "      <td>3.7</td>\n",
       "      <td>88</td>\n",
       "      <td>Banashankari</td>\n",
       "      <td>Quick Bites</td>\n",
       "      <td>South Indian, North Indian</td>\n",
       "      <td>300.0</td>\n",
       "      <td>Buffet</td>\n",
       "      <td>Banashankari</td>\n",
       "    </tr>\n",
       "    <tr>\n",
       "      <th>4</th>\n",
       "      <td>Grand Village</td>\n",
       "      <td>0</td>\n",
       "      <td>0</td>\n",
       "      <td>3.8</td>\n",
       "      <td>166</td>\n",
       "      <td>Basavanagudi</td>\n",
       "      <td>Casual Dining</td>\n",
       "      <td>North Indian, Rajasthani</td>\n",
       "      <td>600.0</td>\n",
       "      <td>Buffet</td>\n",
       "      <td>Banashankari</td>\n",
       "    </tr>\n",
       "  </tbody>\n",
       "</table>\n",
       "</div>"
      ],
      "text/plain": [
       "                    name  online_order  book_table  rate  votes      location  \\\n",
       "0                  Jalsa             1           1   4.1    775  Banashankari   \n",
       "1         Spice Elephant             1           0   4.1    787  Banashankari   \n",
       "2        San Churro Cafe             1           0   3.8    918  Banashankari   \n",
       "3  Addhuri Udupi Bhojana             0           0   3.7     88  Banashankari   \n",
       "4          Grand Village             0           0   3.8    166  Basavanagudi   \n",
       "\n",
       "             rest_type                        cuisines  price    type  \\\n",
       "0        Casual Dining  North Indian, Mughlai, Chinese  800.0  Buffet   \n",
       "1        Casual Dining     Chinese, North Indian, Thai  800.0  Buffet   \n",
       "2  Cafe, Casual Dining          Cafe, Mexican, Italian  800.0  Buffet   \n",
       "3          Quick Bites      South Indian, North Indian  300.0  Buffet   \n",
       "4        Casual Dining        North Indian, Rajasthani  600.0  Buffet   \n",
       "\n",
       "           city  \n",
       "0  Banashankari  \n",
       "1  Banashankari  \n",
       "2  Banashankari  \n",
       "3  Banashankari  \n",
       "4  Banashankari  "
      ]
     },
     "execution_count": 20,
     "metadata": {},
     "output_type": "execute_result"
    }
   ],
   "source": [
    "df.head()"
   ]
  },
  {
   "cell_type": "markdown",
   "id": "ab94411f-50e8-4b46-b562-153806eb46ad",
   "metadata": {},
   "source": [
    "#### Imputing the missing values"
   ]
  },
  {
   "cell_type": "code",
   "execution_count": 21,
   "id": "51d3c095-91c7-4d65-832b-43bb118dda0f",
   "metadata": {},
   "outputs": [],
   "source": [
    "def percentage_summary(df):\n",
    "    dist = df.apply(lambda x:[x.nunique(), round(x.nunique()/len(df),4),round(x.isna().sum(),4),round(x.isna().sum()/len(df),4)])\n",
    "    x = dist.transpose()\n",
    "    x= x.rename(columns={0:'Count of Unique',1:'Percentage of Unqiue',2:'Count of Missing',3:'Percentage of Missing'})\n",
    "    return x"
   ]
  },
  {
   "cell_type": "code",
   "execution_count": 22,
   "id": "a7c300aa-e28d-4953-9453-435a635deedb",
   "metadata": {},
   "outputs": [
    {
     "data": {
      "text/html": [
       "<div>\n",
       "<style scoped>\n",
       "    .dataframe tbody tr th:only-of-type {\n",
       "        vertical-align: middle;\n",
       "    }\n",
       "\n",
       "    .dataframe tbody tr th {\n",
       "        vertical-align: top;\n",
       "    }\n",
       "\n",
       "    .dataframe thead th {\n",
       "        text-align: right;\n",
       "    }\n",
       "</style>\n",
       "<table border=\"1\" class=\"dataframe\">\n",
       "  <thead>\n",
       "    <tr style=\"text-align: right;\">\n",
       "      <th></th>\n",
       "      <th>Count of Unique</th>\n",
       "      <th>Percentage of Unqiue</th>\n",
       "      <th>Count of Missing</th>\n",
       "      <th>Percentage of Missing</th>\n",
       "    </tr>\n",
       "  </thead>\n",
       "  <tbody>\n",
       "    <tr>\n",
       "      <th>name</th>\n",
       "      <td>8792.0</td>\n",
       "      <td>0.1700</td>\n",
       "      <td>0.0</td>\n",
       "      <td>0.0000</td>\n",
       "    </tr>\n",
       "    <tr>\n",
       "      <th>online_order</th>\n",
       "      <td>2.0</td>\n",
       "      <td>0.0000</td>\n",
       "      <td>0.0</td>\n",
       "      <td>0.0000</td>\n",
       "    </tr>\n",
       "    <tr>\n",
       "      <th>book_table</th>\n",
       "      <td>2.0</td>\n",
       "      <td>0.0000</td>\n",
       "      <td>0.0</td>\n",
       "      <td>0.0000</td>\n",
       "    </tr>\n",
       "    <tr>\n",
       "      <th>rate</th>\n",
       "      <td>31.0</td>\n",
       "      <td>0.0006</td>\n",
       "      <td>10052.0</td>\n",
       "      <td>0.1944</td>\n",
       "    </tr>\n",
       "    <tr>\n",
       "      <th>votes</th>\n",
       "      <td>2328.0</td>\n",
       "      <td>0.0450</td>\n",
       "      <td>0.0</td>\n",
       "      <td>0.0000</td>\n",
       "    </tr>\n",
       "    <tr>\n",
       "      <th>location</th>\n",
       "      <td>93.0</td>\n",
       "      <td>0.0018</td>\n",
       "      <td>21.0</td>\n",
       "      <td>0.0004</td>\n",
       "    </tr>\n",
       "    <tr>\n",
       "      <th>rest_type</th>\n",
       "      <td>93.0</td>\n",
       "      <td>0.0018</td>\n",
       "      <td>227.0</td>\n",
       "      <td>0.0044</td>\n",
       "    </tr>\n",
       "    <tr>\n",
       "      <th>cuisines</th>\n",
       "      <td>2723.0</td>\n",
       "      <td>0.0527</td>\n",
       "      <td>45.0</td>\n",
       "      <td>0.0009</td>\n",
       "    </tr>\n",
       "    <tr>\n",
       "      <th>price</th>\n",
       "      <td>70.0</td>\n",
       "      <td>0.0014</td>\n",
       "      <td>346.0</td>\n",
       "      <td>0.0067</td>\n",
       "    </tr>\n",
       "    <tr>\n",
       "      <th>type</th>\n",
       "      <td>7.0</td>\n",
       "      <td>0.0001</td>\n",
       "      <td>0.0</td>\n",
       "      <td>0.0000</td>\n",
       "    </tr>\n",
       "    <tr>\n",
       "      <th>city</th>\n",
       "      <td>30.0</td>\n",
       "      <td>0.0006</td>\n",
       "      <td>0.0</td>\n",
       "      <td>0.0000</td>\n",
       "    </tr>\n",
       "  </tbody>\n",
       "</table>\n",
       "</div>"
      ],
      "text/plain": [
       "              Count of Unique  Percentage of Unqiue  Count of Missing  \\\n",
       "name                   8792.0                0.1700               0.0   \n",
       "online_order              2.0                0.0000               0.0   \n",
       "book_table                2.0                0.0000               0.0   \n",
       "rate                     31.0                0.0006           10052.0   \n",
       "votes                  2328.0                0.0450               0.0   \n",
       "location                 93.0                0.0018              21.0   \n",
       "rest_type                93.0                0.0018             227.0   \n",
       "cuisines               2723.0                0.0527              45.0   \n",
       "price                    70.0                0.0014             346.0   \n",
       "type                      7.0                0.0001               0.0   \n",
       "city                     30.0                0.0006               0.0   \n",
       "\n",
       "              Percentage of Missing  \n",
       "name                         0.0000  \n",
       "online_order                 0.0000  \n",
       "book_table                   0.0000  \n",
       "rate                         0.1944  \n",
       "votes                        0.0000  \n",
       "location                     0.0004  \n",
       "rest_type                    0.0044  \n",
       "cuisines                     0.0009  \n",
       "price                        0.0067  \n",
       "type                         0.0000  \n",
       "city                         0.0000  "
      ]
     },
     "execution_count": 22,
     "metadata": {},
     "output_type": "execute_result"
    }
   ],
   "source": [
    "percentage_summary(df)"
   ]
  },
  {
   "cell_type": "markdown",
   "id": "73b9fdd3-6d74-42fb-9990-fca9653f1222",
   "metadata": {},
   "source": [
    "##### as per my knowledge its not good idea to impute the target values so jump to the pipelines for next step\n",
    "##### approach 1 (dropping the target - rate)\n"
   ]
  },
  {
   "cell_type": "code",
   "execution_count": 23,
   "id": "a9c3770f-48c9-4795-9107-7756b3ca840c",
   "metadata": {},
   "outputs": [
    {
     "data": {
      "text/plain": [
       "(51717, 11)"
      ]
     },
     "execution_count": 23,
     "metadata": {},
     "output_type": "execute_result"
    }
   ],
   "source": [
    "df.shape"
   ]
  },
  {
   "cell_type": "code",
   "execution_count": 24,
   "id": "1f4ff030-1a59-4860-9760-876d47347f29",
   "metadata": {},
   "outputs": [
    {
     "data": {
      "text/plain": [
       "(41190, 11)"
      ]
     },
     "execution_count": 24,
     "metadata": {},
     "output_type": "execute_result"
    }
   ],
   "source": [
    "df1 = df.copy()\n",
    "df1 = df1.dropna()\n",
    "df1.drop_duplicates(inplace=True)\n",
    "df1.shape"
   ]
  },
  {
   "cell_type": "code",
   "execution_count": null,
   "id": "cc12b5ee-be13-499a-a180-17f902e8b6af",
   "metadata": {},
   "outputs": [],
   "source": []
  },
  {
   "cell_type": "markdown",
   "id": "e91d4e6d-676b-47cd-bbdb-6e80eb55c689",
   "metadata": {},
   "source": [
    "dropping rest_type, cuisines, price with rate"
   ]
  },
  {
   "cell_type": "markdown",
   "id": "40f478a6-71e5-4cc6-8627-589f1f1b22a8",
   "metadata": {},
   "source": [
    "rest_type and cuisines, having approx 0.004% of missing\n",
    "Assuming : So imputing them (at the most ideal case) will have a chance of improvement in our model is 0.004% (max. where we got all our values correct as true values)\n",
    "so either impute them or not it won't be that effective, \n",
    "\n",
    "while price is having 0.006% of missing\n",
    "and that could be explored further with regression or other techniques but leaving it for now,"
   ]
  },
  {
   "cell_type": "code",
   "execution_count": 25,
   "id": "b767ee15-c5fd-4e45-bf37-feed8ebae3b8",
   "metadata": {},
   "outputs": [
    {
     "data": {
      "text/html": [
       "<div>\n",
       "<style scoped>\n",
       "    .dataframe tbody tr th:only-of-type {\n",
       "        vertical-align: middle;\n",
       "    }\n",
       "\n",
       "    .dataframe tbody tr th {\n",
       "        vertical-align: top;\n",
       "    }\n",
       "\n",
       "    .dataframe thead th {\n",
       "        text-align: right;\n",
       "    }\n",
       "</style>\n",
       "<table border=\"1\" class=\"dataframe\">\n",
       "  <thead>\n",
       "    <tr style=\"text-align: right;\">\n",
       "      <th></th>\n",
       "      <th>Count of Unique</th>\n",
       "      <th>Percentage of Unqiue</th>\n",
       "      <th>Count of Missing</th>\n",
       "      <th>Percentage of Missing</th>\n",
       "    </tr>\n",
       "  </thead>\n",
       "  <tbody>\n",
       "    <tr>\n",
       "      <th>name</th>\n",
       "      <td>6602.0</td>\n",
       "      <td>0.1603</td>\n",
       "      <td>0.0</td>\n",
       "      <td>0.0</td>\n",
       "    </tr>\n",
       "    <tr>\n",
       "      <th>online_order</th>\n",
       "      <td>2.0</td>\n",
       "      <td>0.0000</td>\n",
       "      <td>0.0</td>\n",
       "      <td>0.0</td>\n",
       "    </tr>\n",
       "    <tr>\n",
       "      <th>book_table</th>\n",
       "      <td>2.0</td>\n",
       "      <td>0.0000</td>\n",
       "      <td>0.0</td>\n",
       "      <td>0.0</td>\n",
       "    </tr>\n",
       "    <tr>\n",
       "      <th>rate</th>\n",
       "      <td>31.0</td>\n",
       "      <td>0.0008</td>\n",
       "      <td>0.0</td>\n",
       "      <td>0.0</td>\n",
       "    </tr>\n",
       "    <tr>\n",
       "      <th>votes</th>\n",
       "      <td>2323.0</td>\n",
       "      <td>0.0564</td>\n",
       "      <td>0.0</td>\n",
       "      <td>0.0</td>\n",
       "    </tr>\n",
       "    <tr>\n",
       "      <th>location</th>\n",
       "      <td>92.0</td>\n",
       "      <td>0.0022</td>\n",
       "      <td>0.0</td>\n",
       "      <td>0.0</td>\n",
       "    </tr>\n",
       "    <tr>\n",
       "      <th>rest_type</th>\n",
       "      <td>87.0</td>\n",
       "      <td>0.0021</td>\n",
       "      <td>0.0</td>\n",
       "      <td>0.0</td>\n",
       "    </tr>\n",
       "    <tr>\n",
       "      <th>cuisines</th>\n",
       "      <td>2367.0</td>\n",
       "      <td>0.0575</td>\n",
       "      <td>0.0</td>\n",
       "      <td>0.0</td>\n",
       "    </tr>\n",
       "    <tr>\n",
       "      <th>price</th>\n",
       "      <td>63.0</td>\n",
       "      <td>0.0015</td>\n",
       "      <td>0.0</td>\n",
       "      <td>0.0</td>\n",
       "    </tr>\n",
       "    <tr>\n",
       "      <th>type</th>\n",
       "      <td>7.0</td>\n",
       "      <td>0.0002</td>\n",
       "      <td>0.0</td>\n",
       "      <td>0.0</td>\n",
       "    </tr>\n",
       "    <tr>\n",
       "      <th>city</th>\n",
       "      <td>30.0</td>\n",
       "      <td>0.0007</td>\n",
       "      <td>0.0</td>\n",
       "      <td>0.0</td>\n",
       "    </tr>\n",
       "  </tbody>\n",
       "</table>\n",
       "</div>"
      ],
      "text/plain": [
       "              Count of Unique  Percentage of Unqiue  Count of Missing  \\\n",
       "name                   6602.0                0.1603               0.0   \n",
       "online_order              2.0                0.0000               0.0   \n",
       "book_table                2.0                0.0000               0.0   \n",
       "rate                     31.0                0.0008               0.0   \n",
       "votes                  2323.0                0.0564               0.0   \n",
       "location                 92.0                0.0022               0.0   \n",
       "rest_type                87.0                0.0021               0.0   \n",
       "cuisines               2367.0                0.0575               0.0   \n",
       "price                    63.0                0.0015               0.0   \n",
       "type                      7.0                0.0002               0.0   \n",
       "city                     30.0                0.0007               0.0   \n",
       "\n",
       "              Percentage of Missing  \n",
       "name                            0.0  \n",
       "online_order                    0.0  \n",
       "book_table                      0.0  \n",
       "rate                            0.0  \n",
       "votes                           0.0  \n",
       "location                        0.0  \n",
       "rest_type                       0.0  \n",
       "cuisines                        0.0  \n",
       "price                           0.0  \n",
       "type                            0.0  \n",
       "city                            0.0  "
      ]
     },
     "execution_count": 25,
     "metadata": {},
     "output_type": "execute_result"
    }
   ],
   "source": [
    "percentage_summary(df1)"
   ]
  },
  {
   "cell_type": "code",
   "execution_count": 26,
   "id": "328903ee-a9ab-490c-983d-16e65e4b5c91",
   "metadata": {},
   "outputs": [
    {
     "data": {
      "text/plain": [
       "Index(['Cafe Coffee Day', 'Onesta', 'Just Bake', 'Empire Restaurant',\n",
       "       'Five Star Chicken', 'Kanti Sweets', 'Petoo', 'Polar Bear',\n",
       "       'Baskin Robbins', 'Chef Baker's'],\n",
       "      dtype='object')"
      ]
     },
     "execution_count": 26,
     "metadata": {},
     "output_type": "execute_result"
    }
   ],
   "source": [
    "df.name.value_counts()[:10].index"
   ]
  },
  {
   "cell_type": "markdown",
   "id": "051630df-3a42-4733-8fbb-2d926d8f28b3",
   "metadata": {},
   "source": [
    "later : applying regression is a good idea here, because price depends upon various factors of a restraunt like location, type, ratings etc but since the data is quite imbalance of our sub-target(df.price), ik adasyn or smote will do the job, but their synthetic points wouldn't add lots of improvement of the final model so\n",
    "\n",
    "conclusion : going for a cheap alternative of our good old mean, which is assigned as per their grouped by(df.location and then its type), which would be provide same or better results than regression "
   ]
  },
  {
   "cell_type": "raw",
   "id": "5cf6b06e-ced0-4da3-8587-41b68912adda",
   "metadata": {},
   "source": [
    "df1.groupby(['location','type'])['price'].transform('mean')"
   ]
  },
  {
   "cell_type": "raw",
   "id": "5a849952-c96b-4f30-8111-e71c5981bcf3",
   "metadata": {},
   "source": [
    "df1[\"price\"] = df1['price'].fillna(df1.groupby(['location','type'])['price'].transform('mean'))\n",
    "df1[~df1.price.isna()].groupby(['location','type']).mean()"
   ]
  },
  {
   "cell_type": "markdown",
   "id": "5f85b348-dc27-43f9-b15a-a9a43243768e",
   "metadata": {},
   "source": [
    "#### Encoding the cat features"
   ]
  },
  {
   "cell_type": "code",
   "execution_count": 27,
   "id": "a07ffaaa-291a-4358-9665-976df361c13d",
   "metadata": {},
   "outputs": [],
   "source": [
    "all_features = df1.columns"
   ]
  },
  {
   "cell_type": "markdown",
   "id": "1948c4b2-b24d-4969-93ab-97447ad51e48",
   "metadata": {},
   "source": [
    "##### getting list of cat and num features"
   ]
  },
  {
   "cell_type": "code",
   "execution_count": 28,
   "id": "fa8ce869-09a3-439b-ad5f-fb46f461f1cf",
   "metadata": {},
   "outputs": [],
   "source": [
    "df.rate = pd.to_numeric(df.rate)"
   ]
  },
  {
   "cell_type": "code",
   "execution_count": 29,
   "id": "48df196a-80cb-4811-9746-61fee25e51a1",
   "metadata": {},
   "outputs": [],
   "source": [
    "cat_cols = [x for x in all_features if df1[all_features][x].dtype == \"object\"]\n",
    "\n",
    "num_cols = [x for x in all_features if df1[all_features][x].dtype in ['int64', 'float64']]\n"
   ]
  },
  {
   "cell_type": "code",
   "execution_count": 30,
   "id": "10fadc76-b1a9-46b6-a854-ec71bcb06488",
   "metadata": {},
   "outputs": [
    {
     "data": {
      "text/plain": [
       "['name', 'location', 'rest_type', 'cuisines', 'type', 'city']"
      ]
     },
     "execution_count": 30,
     "metadata": {},
     "output_type": "execute_result"
    }
   ],
   "source": [
    "cat_cols"
   ]
  },
  {
   "cell_type": "code",
   "execution_count": 31,
   "id": "d3f4ad7a-e938-4da2-b0a7-84b5e78a2201",
   "metadata": {},
   "outputs": [
    {
     "data": {
      "text/plain": [
       "['online_order', 'book_table', 'rate', 'votes', 'price']"
      ]
     },
     "execution_count": 31,
     "metadata": {},
     "output_type": "execute_result"
    }
   ],
   "source": [
    "num_cols"
   ]
  },
  {
   "cell_type": "code",
   "execution_count": 32,
   "id": "dae2d685-725d-4902-8751-9414db4ee2e5",
   "metadata": {},
   "outputs": [
    {
     "data": {
      "text/plain": [
       "Index(['name', 'online_order', 'book_table', 'rate', 'votes', 'location',\n",
       "       'rest_type', 'cuisines', 'price', 'type', 'city'],\n",
       "      dtype='object')"
      ]
     },
     "execution_count": 32,
     "metadata": {},
     "output_type": "execute_result"
    }
   ],
   "source": [
    "all_features"
   ]
  },
  {
   "cell_type": "code",
   "execution_count": 33,
   "id": "c1669b4a-710f-4ad3-a760-1e684e7ab8fb",
   "metadata": {},
   "outputs": [],
   "source": [
    "ord_enc = OrdinalEncoder(handle_unknown='use_encoded_value',unknown_value=-1)\n",
    "OHE_enc = OneHotEncoder(drop='first',handle_unknown='ignore')\n",
    "\n",
    "normalizer = MinMaxScaler()\n",
    "standardizer = StandardScaler()"
   ]
  },
  {
   "cell_type": "code",
   "execution_count": 34,
   "id": "d1457441-0e18-4963-af1c-f745c8392b7d",
   "metadata": {},
   "outputs": [],
   "source": [
    "def Encode(zomato):\n",
    "    for column in zomato.columns[~zomato.columns.isin(['rating', 'cost', 'votes'])]:\n",
    "        zomato[column] = zomato[column].factorize()[0]\n",
    "    return zomato\n",
    "\n",
    "df2 = Encode(df1.copy())"
   ]
  },
  {
   "cell_type": "markdown",
   "id": "ae029a44-3e02-4cd4-95a8-793772b856b9",
   "metadata": {},
   "source": [
    "##### checking the corelation between the features"
   ]
  },
  {
   "cell_type": "code",
   "execution_count": 35,
   "id": "4921458a-334f-4250-9750-78408efd819e",
   "metadata": {},
   "outputs": [
    {
     "data": {
      "text/plain": [
       "<AxesSubplot:>"
      ]
     },
     "execution_count": 35,
     "metadata": {},
     "output_type": "execute_result"
    },
    {
     "data": {
      "image/png": "[encoded data removed]",
      "text/plain": [
       "<Figure size 1152x576 with 2 Axes>"
      ]
     },
     "metadata": {
      "needs_background": "light"
     },
     "output_type": "display_data"
    }
   ],
   "source": [
    "plt.figure(figsize=(16,8))\n",
    "\n",
    "sns.heatmap(data=df2.corr(),annot=True,cmap='YlGnBu')"
   ]
  },
  {
   "cell_type": "markdown",
   "id": "afe04968-ae61-4c1b-bc45-1e18315ebb8f",
   "metadata": {
    "tags": []
   },
   "source": [
    "### Fitting the best model"
   ]
  },
  {
   "cell_type": "code",
   "execution_count": 36,
   "id": "cc23639f-5678-4b33-9825-7fd70d2be1b4",
   "metadata": {},
   "outputs": [],
   "source": [
    "\n",
    "\n",
    "X = df2[['name', 'online_order', 'book_table', 'votes', 'location',\n",
    "       'rest_type', 'cuisines', 'price', 'type', 'city']]\n",
    "y = df2['rate']"
   ]
  },
  {
   "cell_type": "code",
   "execution_count": 37,
   "id": "d18e0333-fab8-476b-9d64-4de8f03eb34f",
   "metadata": {},
   "outputs": [],
   "source": [
    "X_train, X_test, y_train, y_test = tts(X,y)"
   ]
  },
  {
   "cell_type": "code",
   "execution_count": 38,
   "id": "e35df136-2a16-49df-afa4-4ad00ee29488",
   "metadata": {},
   "outputs": [
    {
     "data": {
      "text/plain": [
       "((30892, 10), (10298, 10), (30892,), (10298,))"
      ]
     },
     "execution_count": 38,
     "metadata": {},
     "output_type": "execute_result"
    }
   ],
   "source": [
    "X_train.shape, X_test.shape, y_train.shape, y_test.shape"
   ]
  },
  {
   "cell_type": "code",
   "execution_count": 39,
   "id": "ea11324c-a5d5-4769-970b-be58ef48e6c2",
   "metadata": {},
   "outputs": [],
   "source": [
    "lr = LinearRegression()\n",
    "rf = RandomForestRegressor(n_estimators=200,random_state=50,min_samples_leaf=.00001)\n",
    "xgbr = XGBRegressor(booster = 'gbtree', learning_rate = 0.1, max_depth = 15, n_estimators = 200,verbosity=0) #copied\n",
    "exr = ExtraTreesRegressor(n_estimators=200) # copied from someones notebook\n",
    "\n",
    "models = [lr,rf,xgbr,exr]"
   ]
  },
  {
   "cell_type": "code",
   "execution_count": 40,
   "id": "45fc7fb7-37e9-42da-931a-8e00e33da0f4",
   "metadata": {},
   "outputs": [],
   "source": [
    "acc = []\n",
    "total_time = []\n",
    "for i in models:\n",
    "    t1= time()\n",
    "    i.fit(X_train,y_train)\n",
    "    p = i.predict(X_test)\n",
    "    t2 = time()\n",
    "    acc.append(r2(y_test,p))\n",
    "    total_time.append(t2-t1)\n"
   ]
  },
  {
   "cell_type": "markdown",
   "id": "b9898a45-878a-4a97-86fa-8ef80847e0e9",
   "metadata": {
    "tags": []
   },
   "source": [
    "#### both extra tree and xgb performs pretty much the same here is the comparision"
   ]
  },
  {
   "cell_type": "code",
   "execution_count": 41,
   "id": "a71934ce-673a-415d-99f8-c09d067e89ce",
   "metadata": {},
   "outputs": [
    {
     "data": {
      "text/html": [
       "<div>\n",
       "<style scoped>\n",
       "    .dataframe tbody tr th:only-of-type {\n",
       "        vertical-align: middle;\n",
       "    }\n",
       "\n",
       "    .dataframe tbody tr th {\n",
       "        vertical-align: top;\n",
       "    }\n",
       "\n",
       "    .dataframe thead th {\n",
       "        text-align: right;\n",
       "    }\n",
       "</style>\n",
       "<table border=\"1\" class=\"dataframe\">\n",
       "  <thead>\n",
       "    <tr style=\"text-align: right;\">\n",
       "      <th></th>\n",
       "      <th>Models</th>\n",
       "      <th>Accuracy</th>\n",
       "      <th>Time taken</th>\n",
       "    </tr>\n",
       "  </thead>\n",
       "  <tbody>\n",
       "    <tr>\n",
       "      <th>0</th>\n",
       "      <td>LinearRegression()</td>\n",
       "      <td>0.025717</td>\n",
       "      <td>0.022059</td>\n",
       "    </tr>\n",
       "    <tr>\n",
       "      <th>1</th>\n",
       "      <td>(DecisionTreeRegressor(max_features='auto', mi...</td>\n",
       "      <td>0.854747</td>\n",
       "      <td>23.587694</td>\n",
       "    </tr>\n",
       "    <tr>\n",
       "      <th>2</th>\n",
       "      <td>XGBRegressor(base_score=0.5, booster='gbtree',...</td>\n",
       "      <td>0.872006</td>\n",
       "      <td>7.687440</td>\n",
       "    </tr>\n",
       "    <tr>\n",
       "      <th>3</th>\n",
       "      <td>(ExtraTreeRegressor(random_state=1456384774), ...</td>\n",
       "      <td>0.866498</td>\n",
       "      <td>11.279025</td>\n",
       "    </tr>\n",
       "  </tbody>\n",
       "</table>\n",
       "</div>"
      ],
      "text/plain": [
       "                                              Models  Accuracy  Time taken\n",
       "0                                 LinearRegression()  0.025717    0.022059\n",
       "1  (DecisionTreeRegressor(max_features='auto', mi...  0.854747   23.587694\n",
       "2  XGBRegressor(base_score=0.5, booster='gbtree',...  0.872006    7.687440\n",
       "3  (ExtraTreeRegressor(random_state=1456384774), ...  0.866498   11.279025"
      ]
     },
     "execution_count": 41,
     "metadata": {},
     "output_type": "execute_result"
    }
   ],
   "source": [
    "comparision = pd.DataFrame({'Models':models,'Accuracy':acc,'Time taken':total_time})\n",
    "comparision"
   ]
  },
  {
   "cell_type": "markdown",
   "id": "e2138a3e-5e6c-41a8-84e2-8db9d5b0524e",
   "metadata": {},
   "source": [
    "#### XGBoost is our champion for this dataset, with best score, and reasonable time cost"
   ]
  },
  {
   "cell_type": "markdown",
   "id": "e4db3967-b638-4962-b158-7465e0804518",
   "metadata": {},
   "source": [
    "#### Converting this model into pipeline version"
   ]
  },
  {
   "cell_type": "code",
   "execution_count": 42,
   "id": "47c655a9-e9bb-4984-b009-8f916d42003e",
   "metadata": {},
   "outputs": [
    {
     "data": {
      "text/plain": [
       "name            [Jalsa, Spice Elephant, San Churro Cafe, Addhu...\n",
       "online_order                                               [1, 0]\n",
       "book_table                                                 [1, 0]\n",
       "rate            [4.1, 3.8, 3.7, 3.6, 4.6, 4.0, 4.2, 3.9, 3.1, ...\n",
       "votes           [775, 787, 918, 88, 166, 286, 8, 2556, 324, 50...\n",
       "location        [Banashankari, Basavanagudi, Mysore Road, Jaya...\n",
       "rest_type       [Casual Dining, Cafe, Casual Dining, Quick Bit...\n",
       "cuisines        [North Indian, Mughlai, Chinese, Chinese, Nort...\n",
       "price           [800.0, 300.0, 600.0, 700.0, 550.0, 500.0, 450...\n",
       "type            [Buffet, Cafes, Delivery, Desserts, Dine-out, ...\n",
       "city            [Banashankari, Bannerghatta Road, Basavanagudi...\n",
       "dtype: object"
      ]
     },
     "execution_count": 42,
     "metadata": {},
     "output_type": "execute_result"
    }
   ],
   "source": [
    "df1.apply(lambda x:x.unique())"
   ]
  },
  {
   "cell_type": "code",
   "execution_count": 55,
   "id": "092d4dd5-460a-4578-95f7-2b3c15a0c040",
   "metadata": {},
   "outputs": [],
   "source": [
    "num_cols.remove('rate')"
   ]
  },
  {
   "cell_type": "code",
   "execution_count": 59,
   "id": "4d1b15fc-6d07-4156-81f6-38e835d5c77a",
   "metadata": {},
   "outputs": [],
   "source": [
    "all_ = num_cols.append(cat_cols)\n",
    "all_"
   ]
  },
  {
   "cell_type": "code",
   "execution_count": 62,
   "id": "ac8f8c6f-960f-4904-923d-659f7f2cbf0e",
   "metadata": {},
   "outputs": [
    {
     "ename": "ValueError",
     "evalue": "Specifying the columns using strings is only supported for pandas DataFrames",
     "output_type": "error",
     "traceback": [
      "\u001b[1;31m---------------------------------------------------------------------------\u001b[0m",
      "\u001b[1;31mAttributeError\u001b[0m                            Traceback (most recent call last)",
      "\u001b[1;32mg:\\anaconda3\\envs\\da\\lib\\site-packages\\sklearn\\utils\\__init__.py\u001b[0m in \u001b[0;36m_get_column_indices\u001b[1;34m(X, key)\u001b[0m\n\u001b[0;32m    408\u001b[0m         \u001b[1;32mtry\u001b[0m\u001b[1;33m:\u001b[0m\u001b[1;33m\u001b[0m\u001b[1;33m\u001b[0m\u001b[0m\n\u001b[1;32m--> 409\u001b[1;33m             \u001b[0mall_columns\u001b[0m \u001b[1;33m=\u001b[0m \u001b[0mX\u001b[0m\u001b[1;33m.\u001b[0m\u001b[0mcolumns\u001b[0m\u001b[1;33m\u001b[0m\u001b[1;33m\u001b[0m\u001b[0m\n\u001b[0m\u001b[0;32m    410\u001b[0m         \u001b[1;32mexcept\u001b[0m \u001b[0mAttributeError\u001b[0m\u001b[1;33m:\u001b[0m\u001b[1;33m\u001b[0m\u001b[1;33m\u001b[0m\u001b[0m\n",
      "\u001b[1;31mAttributeError\u001b[0m: 'numpy.ndarray' object has no attribute 'columns'",
      "\nDuring handling of the above exception, another exception occurred:\n",
      "\u001b[1;31mValueError\u001b[0m                                Traceback (most recent call last)",
      "\u001b[1;32m~\\AppData\\Local\\Temp/ipykernel_10024/1899128756.py\u001b[0m in \u001b[0;36m<module>\u001b[1;34m\u001b[0m\n\u001b[0;32m     15\u001b[0m \u001b[1;33m\u001b[0m\u001b[0m\n\u001b[0;32m     16\u001b[0m \u001b[0mpipe\u001b[0m \u001b[1;33m=\u001b[0m \u001b[0mmake_pipeline\u001b[0m\u001b[1;33m(\u001b[0m\u001b[0mord_transformer\u001b[0m\u001b[1;33m,\u001b[0m\u001b[0mstandardizer\u001b[0m\u001b[1;33m,\u001b[0m\u001b[0mxgbr\u001b[0m\u001b[1;33m)\u001b[0m\u001b[1;33m\u001b[0m\u001b[1;33m\u001b[0m\u001b[0m\n\u001b[1;32m---> 17\u001b[1;33m \u001b[0mpipe\u001b[0m\u001b[1;33m.\u001b[0m\u001b[0mfit\u001b[0m\u001b[1;33m(\u001b[0m\u001b[0mX\u001b[0m\u001b[1;33m,\u001b[0m\u001b[0my\u001b[0m\u001b[1;33m)\u001b[0m\u001b[1;33m\u001b[0m\u001b[1;33m\u001b[0m\u001b[0m\n\u001b[0m",
      "\u001b[1;32mg:\\anaconda3\\envs\\da\\lib\\site-packages\\sklearn\\pipeline.py\u001b[0m in \u001b[0;36mfit\u001b[1;34m(self, X, y, **fit_params)\u001b[0m\n\u001b[0;32m    388\u001b[0m         \"\"\"\n\u001b[0;32m    389\u001b[0m         \u001b[0mfit_params_steps\u001b[0m \u001b[1;33m=\u001b[0m \u001b[0mself\u001b[0m\u001b[1;33m.\u001b[0m\u001b[0m_check_fit_params\u001b[0m\u001b[1;33m(\u001b[0m\u001b[1;33m**\u001b[0m\u001b[0mfit_params\u001b[0m\u001b[1;33m)\u001b[0m\u001b[1;33m\u001b[0m\u001b[1;33m\u001b[0m\u001b[0m\n\u001b[1;32m--> 390\u001b[1;33m         \u001b[0mXt\u001b[0m \u001b[1;33m=\u001b[0m \u001b[0mself\u001b[0m\u001b[1;33m.\u001b[0m\u001b[0m_fit\u001b[0m\u001b[1;33m(\u001b[0m\u001b[0mX\u001b[0m\u001b[1;33m,\u001b[0m \u001b[0my\u001b[0m\u001b[1;33m,\u001b[0m \u001b[1;33m**\u001b[0m\u001b[0mfit_params_steps\u001b[0m\u001b[1;33m)\u001b[0m\u001b[1;33m\u001b[0m\u001b[1;33m\u001b[0m\u001b[0m\n\u001b[0m\u001b[0;32m    391\u001b[0m         \u001b[1;32mwith\u001b[0m \u001b[0m_print_elapsed_time\u001b[0m\u001b[1;33m(\u001b[0m\u001b[1;34m\"Pipeline\"\u001b[0m\u001b[1;33m,\u001b[0m \u001b[0mself\u001b[0m\u001b[1;33m.\u001b[0m\u001b[0m_log_message\u001b[0m\u001b[1;33m(\u001b[0m\u001b[0mlen\u001b[0m\u001b[1;33m(\u001b[0m\u001b[0mself\u001b[0m\u001b[1;33m.\u001b[0m\u001b[0msteps\u001b[0m\u001b[1;33m)\u001b[0m \u001b[1;33m-\u001b[0m \u001b[1;36m1\u001b[0m\u001b[1;33m)\u001b[0m\u001b[1;33m)\u001b[0m\u001b[1;33m:\u001b[0m\u001b[1;33m\u001b[0m\u001b[1;33m\u001b[0m\u001b[0m\n\u001b[0;32m    392\u001b[0m             \u001b[1;32mif\u001b[0m \u001b[0mself\u001b[0m\u001b[1;33m.\u001b[0m\u001b[0m_final_estimator\u001b[0m \u001b[1;33m!=\u001b[0m \u001b[1;34m\"passthrough\"\u001b[0m\u001b[1;33m:\u001b[0m\u001b[1;33m\u001b[0m\u001b[1;33m\u001b[0m\u001b[0m\n",
      "\u001b[1;32mg:\\anaconda3\\envs\\da\\lib\\site-packages\\sklearn\\pipeline.py\u001b[0m in \u001b[0;36m_fit\u001b[1;34m(self, X, y, **fit_params_steps)\u001b[0m\n\u001b[0;32m    346\u001b[0m                 \u001b[0mcloned_transformer\u001b[0m \u001b[1;33m=\u001b[0m \u001b[0mclone\u001b[0m\u001b[1;33m(\u001b[0m\u001b[0mtransformer\u001b[0m\u001b[1;33m)\u001b[0m\u001b[1;33m\u001b[0m\u001b[1;33m\u001b[0m\u001b[0m\n\u001b[0;32m    347\u001b[0m             \u001b[1;31m# Fit or load from cache the current transformer\u001b[0m\u001b[1;33m\u001b[0m\u001b[1;33m\u001b[0m\u001b[1;33m\u001b[0m\u001b[0m\n\u001b[1;32m--> 348\u001b[1;33m             X, fitted_transformer = fit_transform_one_cached(\n\u001b[0m\u001b[0;32m    349\u001b[0m                 \u001b[0mcloned_transformer\u001b[0m\u001b[1;33m,\u001b[0m\u001b[1;33m\u001b[0m\u001b[1;33m\u001b[0m\u001b[0m\n\u001b[0;32m    350\u001b[0m                 \u001b[0mX\u001b[0m\u001b[1;33m,\u001b[0m\u001b[1;33m\u001b[0m\u001b[1;33m\u001b[0m\u001b[0m\n",
      "\u001b[1;32mg:\\anaconda3\\envs\\da\\lib\\site-packages\\joblib\\memory.py\u001b[0m in \u001b[0;36m__call__\u001b[1;34m(self, *args, **kwargs)\u001b[0m\n\u001b[0;32m    347\u001b[0m \u001b[1;33m\u001b[0m\u001b[0m\n\u001b[0;32m    348\u001b[0m     \u001b[1;32mdef\u001b[0m \u001b[0m__call__\u001b[0m\u001b[1;33m(\u001b[0m\u001b[0mself\u001b[0m\u001b[1;33m,\u001b[0m \u001b[1;33m*\u001b[0m\u001b[0margs\u001b[0m\u001b[1;33m,\u001b[0m \u001b[1;33m**\u001b[0m\u001b[0mkwargs\u001b[0m\u001b[1;33m)\u001b[0m\u001b[1;33m:\u001b[0m\u001b[1;33m\u001b[0m\u001b[1;33m\u001b[0m\u001b[0m\n\u001b[1;32m--> 349\u001b[1;33m         \u001b[1;32mreturn\u001b[0m \u001b[0mself\u001b[0m\u001b[1;33m.\u001b[0m\u001b[0mfunc\u001b[0m\u001b[1;33m(\u001b[0m\u001b[1;33m*\u001b[0m\u001b[0margs\u001b[0m\u001b[1;33m,\u001b[0m \u001b[1;33m**\u001b[0m\u001b[0mkwargs\u001b[0m\u001b[1;33m)\u001b[0m\u001b[1;33m\u001b[0m\u001b[1;33m\u001b[0m\u001b[0m\n\u001b[0m\u001b[0;32m    350\u001b[0m \u001b[1;33m\u001b[0m\u001b[0m\n\u001b[0;32m    351\u001b[0m     \u001b[1;32mdef\u001b[0m \u001b[0mcall_and_shelve\u001b[0m\u001b[1;33m(\u001b[0m\u001b[0mself\u001b[0m\u001b[1;33m,\u001b[0m \u001b[1;33m*\u001b[0m\u001b[0margs\u001b[0m\u001b[1;33m,\u001b[0m \u001b[1;33m**\u001b[0m\u001b[0mkwargs\u001b[0m\u001b[1;33m)\u001b[0m\u001b[1;33m:\u001b[0m\u001b[1;33m\u001b[0m\u001b[1;33m\u001b[0m\u001b[0m\n",
      "\u001b[1;32mg:\\anaconda3\\envs\\da\\lib\\site-packages\\sklearn\\pipeline.py\u001b[0m in \u001b[0;36m_fit_transform_one\u001b[1;34m(transformer, X, y, weight, message_clsname, message, **fit_params)\u001b[0m\n\u001b[0;32m    891\u001b[0m     \u001b[1;32mwith\u001b[0m \u001b[0m_print_elapsed_time\u001b[0m\u001b[1;33m(\u001b[0m\u001b[0mmessage_clsname\u001b[0m\u001b[1;33m,\u001b[0m \u001b[0mmessage\u001b[0m\u001b[1;33m)\u001b[0m\u001b[1;33m:\u001b[0m\u001b[1;33m\u001b[0m\u001b[1;33m\u001b[0m\u001b[0m\n\u001b[0;32m    892\u001b[0m         \u001b[1;32mif\u001b[0m \u001b[0mhasattr\u001b[0m\u001b[1;33m(\u001b[0m\u001b[0mtransformer\u001b[0m\u001b[1;33m,\u001b[0m \u001b[1;34m\"fit_transform\"\u001b[0m\u001b[1;33m)\u001b[0m\u001b[1;33m:\u001b[0m\u001b[1;33m\u001b[0m\u001b[1;33m\u001b[0m\u001b[0m\n\u001b[1;32m--> 893\u001b[1;33m             \u001b[0mres\u001b[0m \u001b[1;33m=\u001b[0m \u001b[0mtransformer\u001b[0m\u001b[1;33m.\u001b[0m\u001b[0mfit_transform\u001b[0m\u001b[1;33m(\u001b[0m\u001b[0mX\u001b[0m\u001b[1;33m,\u001b[0m \u001b[0my\u001b[0m\u001b[1;33m,\u001b[0m \u001b[1;33m**\u001b[0m\u001b[0mfit_params\u001b[0m\u001b[1;33m)\u001b[0m\u001b[1;33m\u001b[0m\u001b[1;33m\u001b[0m\u001b[0m\n\u001b[0m\u001b[0;32m    894\u001b[0m         \u001b[1;32melse\u001b[0m\u001b[1;33m:\u001b[0m\u001b[1;33m\u001b[0m\u001b[1;33m\u001b[0m\u001b[0m\n\u001b[0;32m    895\u001b[0m             \u001b[0mres\u001b[0m \u001b[1;33m=\u001b[0m \u001b[0mtransformer\u001b[0m\u001b[1;33m.\u001b[0m\u001b[0mfit\u001b[0m\u001b[1;33m(\u001b[0m\u001b[0mX\u001b[0m\u001b[1;33m,\u001b[0m \u001b[0my\u001b[0m\u001b[1;33m,\u001b[0m \u001b[1;33m**\u001b[0m\u001b[0mfit_params\u001b[0m\u001b[1;33m)\u001b[0m\u001b[1;33m.\u001b[0m\u001b[0mtransform\u001b[0m\u001b[1;33m(\u001b[0m\u001b[0mX\u001b[0m\u001b[1;33m)\u001b[0m\u001b[1;33m\u001b[0m\u001b[1;33m\u001b[0m\u001b[0m\n",
      "\u001b[1;32mg:\\anaconda3\\envs\\da\\lib\\site-packages\\sklearn\\compose\\_column_transformer.py\u001b[0m in \u001b[0;36mfit_transform\u001b[1;34m(self, X, y)\u001b[0m\n\u001b[0;32m    670\u001b[0m         \u001b[0mself\u001b[0m\u001b[1;33m.\u001b[0m\u001b[0m_check_n_features\u001b[0m\u001b[1;33m(\u001b[0m\u001b[0mX\u001b[0m\u001b[1;33m,\u001b[0m \u001b[0mreset\u001b[0m\u001b[1;33m=\u001b[0m\u001b[1;32mTrue\u001b[0m\u001b[1;33m)\u001b[0m\u001b[1;33m\u001b[0m\u001b[1;33m\u001b[0m\u001b[0m\n\u001b[0;32m    671\u001b[0m         \u001b[0mself\u001b[0m\u001b[1;33m.\u001b[0m\u001b[0m_validate_transformers\u001b[0m\u001b[1;33m(\u001b[0m\u001b[1;33m)\u001b[0m\u001b[1;33m\u001b[0m\u001b[1;33m\u001b[0m\u001b[0m\n\u001b[1;32m--> 672\u001b[1;33m         \u001b[0mself\u001b[0m\u001b[1;33m.\u001b[0m\u001b[0m_validate_column_callables\u001b[0m\u001b[1;33m(\u001b[0m\u001b[0mX\u001b[0m\u001b[1;33m)\u001b[0m\u001b[1;33m\u001b[0m\u001b[1;33m\u001b[0m\u001b[0m\n\u001b[0m\u001b[0;32m    673\u001b[0m         \u001b[0mself\u001b[0m\u001b[1;33m.\u001b[0m\u001b[0m_validate_remainder\u001b[0m\u001b[1;33m(\u001b[0m\u001b[0mX\u001b[0m\u001b[1;33m)\u001b[0m\u001b[1;33m\u001b[0m\u001b[1;33m\u001b[0m\u001b[0m\n\u001b[0;32m    674\u001b[0m \u001b[1;33m\u001b[0m\u001b[0m\n",
      "\u001b[1;32mg:\\anaconda3\\envs\\da\\lib\\site-packages\\sklearn\\compose\\_column_transformer.py\u001b[0m in \u001b[0;36m_validate_column_callables\u001b[1;34m(self, X)\u001b[0m\n\u001b[0;32m    350\u001b[0m                 \u001b[0mcolumns\u001b[0m \u001b[1;33m=\u001b[0m \u001b[0mcolumns\u001b[0m\u001b[1;33m(\u001b[0m\u001b[0mX\u001b[0m\u001b[1;33m)\u001b[0m\u001b[1;33m\u001b[0m\u001b[1;33m\u001b[0m\u001b[0m\n\u001b[0;32m    351\u001b[0m             \u001b[0mall_columns\u001b[0m\u001b[1;33m.\u001b[0m\u001b[0mappend\u001b[0m\u001b[1;33m(\u001b[0m\u001b[0mcolumns\u001b[0m\u001b[1;33m)\u001b[0m\u001b[1;33m\u001b[0m\u001b[1;33m\u001b[0m\u001b[0m\n\u001b[1;32m--> 352\u001b[1;33m             \u001b[0mtransformer_to_input_indices\u001b[0m\u001b[1;33m[\u001b[0m\u001b[0mname\u001b[0m\u001b[1;33m]\u001b[0m \u001b[1;33m=\u001b[0m \u001b[0m_get_column_indices\u001b[0m\u001b[1;33m(\u001b[0m\u001b[0mX\u001b[0m\u001b[1;33m,\u001b[0m \u001b[0mcolumns\u001b[0m\u001b[1;33m)\u001b[0m\u001b[1;33m\u001b[0m\u001b[1;33m\u001b[0m\u001b[0m\n\u001b[0m\u001b[0;32m    353\u001b[0m \u001b[1;33m\u001b[0m\u001b[0m\n\u001b[0;32m    354\u001b[0m         \u001b[0mself\u001b[0m\u001b[1;33m.\u001b[0m\u001b[0m_columns\u001b[0m \u001b[1;33m=\u001b[0m \u001b[0mall_columns\u001b[0m\u001b[1;33m\u001b[0m\u001b[1;33m\u001b[0m\u001b[0m\n",
      "\u001b[1;32mg:\\anaconda3\\envs\\da\\lib\\site-packages\\sklearn\\utils\\__init__.py\u001b[0m in \u001b[0;36m_get_column_indices\u001b[1;34m(X, key)\u001b[0m\n\u001b[0;32m    409\u001b[0m             \u001b[0mall_columns\u001b[0m \u001b[1;33m=\u001b[0m \u001b[0mX\u001b[0m\u001b[1;33m.\u001b[0m\u001b[0mcolumns\u001b[0m\u001b[1;33m\u001b[0m\u001b[1;33m\u001b[0m\u001b[0m\n\u001b[0;32m    410\u001b[0m         \u001b[1;32mexcept\u001b[0m \u001b[0mAttributeError\u001b[0m\u001b[1;33m:\u001b[0m\u001b[1;33m\u001b[0m\u001b[1;33m\u001b[0m\u001b[0m\n\u001b[1;32m--> 411\u001b[1;33m             raise ValueError(\n\u001b[0m\u001b[0;32m    412\u001b[0m                 \u001b[1;34m\"Specifying the columns using strings is only \"\u001b[0m\u001b[1;33m\u001b[0m\u001b[1;33m\u001b[0m\u001b[0m\n\u001b[0;32m    413\u001b[0m                 \u001b[1;34m\"supported for pandas DataFrames\"\u001b[0m\u001b[1;33m\u001b[0m\u001b[1;33m\u001b[0m\u001b[0m\n",
      "\u001b[1;31mValueError\u001b[0m: Specifying the columns using strings is only supported for pandas DataFrames"
     ]
    }
   ],
   "source": [
    "X = df1[['name', 'online_order', 'book_table', 'votes', 'location',\n",
    "       'rest_type', 'cuisines', 'price', 'type', 'city']]\n",
    "y = df1['rate']\n",
    "\n",
    "ord_transformer = make_column_transformer(\n",
    "    (ord_enc,cat_cols),\n",
    "    remainder='passthrough')\n",
    "\n",
    "OHE_transformer = make_column_transformer((OHE_enc,cat_cols),remainder='passthrough')\n",
    "\n",
    "X_train, X_test, y_train, y_test = tts(X,y,random_state=28)\n",
    "\n",
    "pipe = make_pipeline(ord_transformer,xgbr)\n",
    "pipe.fit(X,y)\n"
   ]
  },
  {
   "cell_type": "code",
   "execution_count": 53,
   "id": "a2325f3b-49be-4abc-9ffd-742179572652",
   "metadata": {},
   "outputs": [
    {
     "data": {
      "text/plain": [
       "0.8688450411065016"
      ]
     },
     "execution_count": 53,
     "metadata": {},
     "output_type": "execute_result"
    }
   ],
   "source": [
    "#ohe encoding\n",
    "cross_val_score(pipe,X,y,cv=5,n_jobs=-1,).mean()"
   ]
  },
  {
   "cell_type": "raw",
   "id": "2c6b508c-0c5c-4701-8d50-eb0247304c88",
   "metadata": {},
   "source": [
    "df1.to_csv('new_zomato.csv',index=False)\n",
    "\n",
    "x = pd.read_csv('new_zomato.csv')\n",
    "x.head()"
   ]
  },
  {
   "cell_type": "markdown",
   "id": "87a85d00-57b6-47bd-ae43-c283ac2414df",
   "metadata": {},
   "source": [
    "# Extras"
   ]
  },
  {
   "cell_type": "markdown",
   "id": "3ac30a11-1da4-464a-872f-1e3ea0351379",
   "metadata": {},
   "source": [
    "### for model deployement"
   ]
  },
  {
   "cell_type": "raw",
   "id": "e54f8976-db62-4236-9352-c224f1b1d31c",
   "metadata": {},
   "source": [
    "import joblib\n",
    "joblib.dump(pipe, 'restraunt_rating_pipe.sav')"
   ]
  },
  {
   "cell_type": "raw",
   "id": "b8360d7f-e70c-442b-bf99-fc02ab8e9167",
   "metadata": {},
   "source": [
    "df1.columns"
   ]
  },
  {
   "cell_type": "raw",
   "id": "0a729367-a64f-47c2-8f8f-998d82071ba3",
   "metadata": {},
   "source": [
    "# custom input test case\n",
    "ttx = pd.DataFrame(data=[['Jalsa',0,0,1000,'Banashankari','Casual Dining','North Indian, Mughlai, Chinese',499,'Buffet','Banashankari']],\n",
    "                   columns=['name', 'online_order', 'book_table', 'votes', 'location', 'rest_type',\n",
    "       'cuisines', 'price', 'type', 'city'])"
   ]
  },
  {
   "cell_type": "raw",
   "id": "23207ac7-53c8-447c-82d8-4b0ba9d57368",
   "metadata": {},
   "source": [
    "ttx"
   ]
  },
  {
   "cell_type": "raw",
   "id": "28757798-740c-4080-99ea-635806edc9c5",
   "metadata": {},
   "source": [
    "ttx.columns"
   ]
  },
  {
   "cell_type": "raw",
   "id": "12a8441d-8989-4736-8d85-128f0d78124e",
   "metadata": {},
   "source": [
    "new_model = joblib.load('restraunt_rating_pipe.sav')"
   ]
  },
  {
   "cell_type": "raw",
   "id": "0ac5d433-6805-4008-8bc4-b3a476db0b04",
   "metadata": {},
   "source": [
    "gg= new_model.predict(ttx)"
   ]
  },
  {
   "cell_type": "raw",
   "id": "9f5bdfdb-e4d6-4eb9-a1f5-c19c5cf405a1",
   "metadata": {},
   "source": [
    "round(gg[0],2)"
   ]
  }
 ],
 "metadata": {
  "kernelspec": {
   "display_name": "Python 3 (ipykernel)",
   "language": "python",
   "name": "python3"
  },
  "language_info": {
   "codemirror_mode": {
    "name": "ipython",
    "version": 3
   },
   "file_extension": ".py",
   "mimetype": "text/x-python",
   "name": "python",
   "nbconvert_exporter": "python",
   "pygments_lexer": "ipython3",
   "version": "3.9.0"
  }
 },
 "nbformat": 4,
 "nbformat_minor": 5
}
